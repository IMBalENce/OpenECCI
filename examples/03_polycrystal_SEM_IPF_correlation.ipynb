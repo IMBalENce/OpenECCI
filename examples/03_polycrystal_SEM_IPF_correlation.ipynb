{
 "cells": [
  {
   "cell_type": "code",
   "execution_count": 12,
   "metadata": {},
   "outputs": [],
   "source": [
    "import os\n",
    "import cv2\n",
    "import numpy as  np\n",
    "import matplotlib.pyplot as plt\n",
    "from pathlib import Path\n",
    "import kikuchipy as kp\n",
    "from orix.quaternion import Rotation\n",
    "from openECCI import io, rkp\n",
    "from openECCI.ctf import file_reader as ctf_reader\n",
    "\n",
    "plt.rcParams.update({\n",
    "    \"figure.figsize\": (7, 7),\n",
    "    \"font.size\": 9,\n",
    "})"
   ]
  },
  {
   "cell_type": "code",
   "execution_count": 13,
   "metadata": {},
   "outputs": [
    {
     "name": "stdout",
     "output_type": "stream",
     "text": [
      "2188 3072\n"
     ]
    }
   ],
   "source": [
    "# Read IPF map Image to be aligned\n",
    "# Path to fcc_Fe .ctf file containing the EBSD euler angles\n",
    "fe_xmap_path = r\"D:\\OneDrive - Monash University\\2018-2019 MCEM\\02 Projects\\13 EBSD n ECCI\\20230213 tutorial manuscript\\supplementary\"\n",
    "fe_xmap_file = r\"20kv_26nA_15mm WD_4x4 bin_fcc_Fe Map.ctf\"\n",
    "fe_xmap_fname = os.path.join(fe_xmap_path, fe_xmap_file)\n",
    "fe_xmap = ctf_reader(fe_xmap_fname)\n",
    "ipf_map = rkp.get_xmap_image(fe_xmap, phase_name=\"Iron fcc\", overlay=\"BC\").astype('float32')\n",
    "\n",
    "# Reference Reference image or Ideal image\n",
    "sem_path = r\"D:\\OneDrive - Monash University\\2018-2019 MCEM\\02 Projects\\13 EBSD n ECCI\\20231024 ECCI\"\n",
    "sem_file = r\"01_steel overview.tif\"\n",
    "sem_fname = os.path.join(sem_path, sem_file)\n",
    "sem = cv2.imread(sem_fname).astype('float32')\n",
    "\n",
    "sem_norm = cv2.cvtColor(sem, cv2.COLOR_BGR2RGB)\n",
    "sem_norm /= 255\n",
    "ipf_image = cv2.cvtColor(ipf_map, cv2.COLOR_BGR2RGB)\n",
    "height, width, _ = sem_norm.shape\n",
    "print(height, width)"
   ]
  },
  {
   "cell_type": "code",
   "execution_count": 16,
   "metadata": {},
   "outputs": [],
   "source": [
    "%matplotlib qt\n",
    "# display the interactive EBSD IPF map to select correlation points\n",
    "# Create a function to handle mouse click events\n",
    "def onclick(event):\n",
    "    if event.dblclick:\n",
    "        x, y = int(event.xdata), int(event.ydata)  # Get the pixel coordinates from the click event\n",
    "        points.append((x, y))  # Store the selected point\n",
    "        labels.append(len(points))  # Prompt for a label\n",
    "\n",
    "        # Update the plot to show the selected point and label\n",
    "        ax.plot(x, y, 'ro', markersize=5)\n",
    "        ax.text(x, y, labels[-1], fontsize=12, color='red')\n",
    "        plt.draw()\n",
    "\n",
    "# Initialize lists to store selected points and their labels\n",
    "points = []\n",
    "labels = []\n",
    "\n",
    "# Create a figure and display the image\n",
    "fig, ax = plt.subplots()\n",
    "ax.imshow(ipf_image)\n",
    "ax.set_title(\"Click on the image to select points.\")\n",
    "\n",
    "# Connect the mouse click event to the function\n",
    "cid = fig.canvas.mpl_connect('button_press_event', onclick)\n",
    "\n",
    "# Display the image and allow interactive selection\n",
    "plt.show()\n",
    "\n"
   ]
  },
  {
   "cell_type": "code",
   "execution_count": 17,
   "metadata": {},
   "outputs": [],
   "source": [
    "# display the interactive SEM image to select correlation points\n",
    "# Create a function to handle mouse click events\n",
    "def onclick2(event):\n",
    "    if event.dblclick:\n",
    "        x2, y2 = int(event.xdata), int(event.ydata)  # Get the pixel coordinates from the click event\n",
    "        points2.append((x2, y2))  # Store the selected point\n",
    "        labels2.append(len(points2))  # Prompt for a label\n",
    "        \n",
    "\n",
    "        # Update the plot to show the selected point and label\n",
    "        ax2.plot(x2, y2, 'ro', markersize=5)\n",
    "        ax2.text(x2, y2, labels2[-1], fontsize=12, color='red')\n",
    "        plt.draw()\n",
    "        plt.pause(0.0001)\n",
    "\n",
    "# Initialize lists to store selected points and their labels\n",
    "points2 = []\n",
    "labels2 = []\n",
    "\n",
    "# Create a figure and display the image\n",
    "fig2, ax2 = plt.subplots()\n",
    "ax2.imshow(sem_norm, cmap=\"gray\")\n",
    "ax2.set_title(\"Click on the image to select points.\")\n",
    "\n",
    "# Connect the mouse click event to the function\n",
    "cid = fig2.canvas.mpl_connect('button_press_event', onclick2)\n",
    "\n",
    "# Display the image and allow interactive selection\n",
    "plt.show()\n",
    "\n"
   ]
  },
  {
   "cell_type": "code",
   "execution_count": null,
   "metadata": {},
   "outputs": [],
   "source": [
    "# When need to save the alignment points for future use, run this cell\n",
    "points2 = np.array(points2, dtype=np.float32)\n",
    "points1 = np.array(points, dtype=np.float32)\n",
    "io.save_align_points(points1, points2)"
   ]
  },
  {
   "cell_type": "code",
   "execution_count": 8,
   "metadata": {},
   "outputs": [
    {
     "data": {
      "text/plain": [
       "24"
      ]
     },
     "execution_count": 8,
     "metadata": {},
     "output_type": "execute_result"
    }
   ],
   "source": [
    "# When need to load the saved alignment points for future use, run this cell\n",
    "[points1, points2] = io.load_prev_align_points()\n",
    "len(points1)"
   ]
  },
  {
   "cell_type": "code",
   "execution_count": 9,
   "metadata": {},
   "outputs": [],
   "source": [
    "pts_sem = np.array(points2, dtype=np.float32)\n",
    "pts_ipf = np.array(points1, dtype=np.float32)\n",
    "\n",
    "homography, mask = cv2.findHomography(pts_ipf, pts_sem, 0)\n",
    "warp_src = cv2.warpPerspective(ipf_map, homography, (width, height))\n",
    "inverse_transformation_matrix = np.linalg.inv(homography)"
   ]
  },
  {
   "cell_type": "code",
   "execution_count": 18,
   "metadata": {},
   "outputs": [],
   "source": [
    "%matplotlib qt\n",
    "alpha = 0.6\n",
    "beta = (1.0 - alpha)\n",
    "dst_warp_blended = cv2.addWeighted(sem_norm, alpha, warp_src, beta, 0.0)\n",
    "# cv2.namedWindow('result',cv2.WINDOW_NORMAL)\n",
    "# cv2.imshow('result', dst_warp_blended)\n",
    "fig = plt.subplots(figsize=(10, 8))\n",
    "plt.imshow(dst_warp_blended)\n",
    "plt.axis(\"off\")\n",
    "plt.tight_layout()\n",
    "# plt.savefig(\"overlay_ipf.png\", dpi=300)\n",
    "# plt.show()"
   ]
  }
 ],
 "metadata": {
  "kernelspec": {
   "display_name": "Python 3",
   "language": "python",
   "name": "python3"
  },
  "language_info": {
   "codemirror_mode": {
    "name": "ipython",
    "version": 3
   },
   "file_extension": ".py",
   "mimetype": "text/x-python",
   "name": "python",
   "nbconvert_exporter": "python",
   "pygments_lexer": "ipython3",
   "version": "3.7.16"
  }
 },
 "nbformat": 4,
 "nbformat_minor": 2
}
