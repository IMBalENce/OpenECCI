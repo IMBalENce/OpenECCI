{
 "cells": [
  {
   "cell_type": "code",
   "execution_count": 1,
   "metadata": {},
   "outputs": [],
   "source": [
    "import sys\n",
    "sys.path.append(\"..\")\n",
    "\n",
    "import os\n",
    "import cv2\n",
    "import numpy as  np\n",
    "import matplotlib.pyplot as plt\n",
    "from pathlib import Path\n",
    "import kikuchipy as kp\n",
    "from orix.quaternion import Rotation\n",
    "from openECCI import io, rkp, optimisation\n",
    "\n",
    "plt.rcParams.update({\n",
    "    \"figure.figsize\": (7, 7),\n",
    "    \"font.size\": 9,\n",
    "})"
   ]
  },
  {
   "cell_type": "code",
   "execution_count": 2,
   "metadata": {},
   "outputs": [],
   "source": [
    "fe_xmap_path = r\"D:\\OneDrive - Monash University\\2018-2019 MCEM\\02 Projects\\13 EBSD n ECCI\\20230213 tutorial manuscript\\supplementary\"\n",
    "fe_xmap_file = r\"20kv_26nA_15mm WD_4x4 bin_fcc_Fe Map.ctf\"\n",
    "fe_xmap_fname = os.path.join(fe_xmap_path, fe_xmap_file)\n",
    "\n",
    "sem_path = r\"D:\\OneDrive - Monash University\\2018-2019 MCEM\\02 Projects\\13 EBSD n ECCI\\20231024 ECCI\"\n",
    "sem_file = r\"01_steel overview.tif\"\n",
    "sem_fname = os.path.join(sem_path, sem_file)"
   ]
  },
  {
   "cell_type": "code",
   "execution_count": 3,
   "metadata": {},
   "outputs": [
    {
     "name": "stdout",
     "output_type": "stream",
     "text": [
      "Phase     Orientations         Name  Space group  Point group  Proper point group     Color\n",
      "   -1      8358 (2.5%)  not_indexed         None         None                None         w\n",
      "    1   322978 (97.5%)     Iron fcc        Fm-3m         m-3m                 432  tab:blue\n",
      "Properties: bands, error, MAD, BC, BS\n",
      "Scan unit: um\n"
     ]
    }
   ],
   "source": [
    "correlation = optimisation.ipf_image_correlation(sem_fname, fe_xmap_fname)"
   ]
  },
  {
   "cell_type": "code",
   "execution_count": 4,
   "metadata": {},
   "outputs": [],
   "source": [
    "correlation.get_ipf_map(phase_name=\"Iron fcc\", plot=False)"
   ]
  },
  {
   "cell_type": "code",
   "execution_count": 5,
   "metadata": {},
   "outputs": [],
   "source": [
    "%matplotlib qt\n",
    "correlation.get_ipf_points()"
   ]
  },
  {
   "cell_type": "code",
   "execution_count": 6,
   "metadata": {},
   "outputs": [],
   "source": [
    "correlation.get_sem_points()"
   ]
  },
  {
   "cell_type": "code",
   "execution_count": 7,
   "metadata": {},
   "outputs": [
    {
     "name": "stdout",
     "output_type": "stream",
     "text": [
      "24 alignment points have been loaded.\n"
     ]
    }
   ],
   "source": [
    "correlation.load_alignment_points(load_path=\"alignment_points.pkl\")"
   ]
  },
  {
   "cell_type": "code",
   "execution_count": null,
   "metadata": {},
   "outputs": [],
   "source": [
    "correlation.save_alignment_points(save_path=\"alignment_points.pkl\")"
   ]
  },
  {
   "cell_type": "code",
   "execution_count": 8,
   "metadata": {},
   "outputs": [],
   "source": [
    "correlation.process(plot=True)"
   ]
  },
  {
   "cell_type": "code",
   "execution_count": null,
   "metadata": {},
   "outputs": [],
   "source": []
  }
 ],
 "metadata": {
  "kernelspec": {
   "display_name": "Python 3",
   "language": "python",
   "name": "python3"
  },
  "language_info": {
   "codemirror_mode": {
    "name": "ipython",
    "version": 3
   },
   "file_extension": ".py",
   "mimetype": "text/x-python",
   "name": "python",
   "nbconvert_exporter": "python",
   "pygments_lexer": "ipython3",
   "version": "3.7.16"
  }
 },
 "nbformat": 4,
 "nbformat_minor": 2
}
